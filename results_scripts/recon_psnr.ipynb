{
 "cells": [
  {
   "cell_type": "code",
   "execution_count": 2,
   "metadata": {},
   "outputs": [
    {
     "name": "stdout",
     "output_type": "stream",
     "text": [
      "sax psnr_mean : 37.42966842651367\n",
      "sax psnr_std : 1.9410974979400635\n",
      "sax psnr_sax_mean : 37.42966842651367\n",
      "sax psnr_sax_std : 1.9410974979400635\n",
      "sax psnr_lax_mean : 0\n",
      "sax psnr_lax_std : 0\n",
      "lax psnr_mean : 33.65968322753906\n",
      "lax psnr_std : 1.5694222450256348\n",
      "lax psnr_sax_mean : 0\n",
      "lax psnr_sax_std : 0\n",
      "lax psnr_lax_mean : 33.65968322753906\n",
      "lax psnr_lax_std : 1.5694222450256348\n",
      "allax psnr_mean : 33.58977127075195\n",
      "allax psnr_std : 2.1880385875701904\n",
      "allax psnr_sax_mean : 34.5770263671875\n",
      "allax psnr_sax_std : 1.7547011375427246\n",
      "allax psnr_lax_mean : 31.61525535583496\n",
      "allax psnr_lax_std : 1.5351002216339111\n",
      "allax_0.5 psnr_mean : 38.025108337402344\n",
      "allax_0.5 psnr_std : 2.5562329292297363\n",
      "allax_0.5 psnr_sax_mean : 39.211212158203125\n",
      "allax_0.5 psnr_sax_std : 2.0814127922058105\n",
      "allax_0.5 psnr_lax_mean : 35.65290451049805\n",
      "allax_0.5 psnr_lax_std : 1.5803190469741821\n",
      "allax_0.9 psnr_mean : 27.21201515197754\n",
      "allax_0.9 psnr_std : 1.9056555032730103\n",
      "allax_0.9 psnr_sax_mean : 27.978885650634766\n",
      "allax_0.9 psnr_sax_std : 1.5679295063018799\n",
      "allax_0.9 psnr_lax_mean : 25.67827033996582\n",
      "allax_0.9 psnr_lax_std : 1.564997673034668\n",
      "allax_no5Dpe psnr_mean : 16.78093719482422\n",
      "allax_no5Dpe psnr_std : 0.8993990421295166\n",
      "allax_no5Dpe psnr_sax_mean : 16.63319206237793\n",
      "allax_no5Dpe psnr_sax_std : 0.9175414443016052\n",
      "allax_no5Dpe psnr_lax_mean : 17.07642364501953\n",
      "allax_no5Dpe psnr_lax_std : 0.7823180556297302\n"
     ]
    }
   ],
   "source": [
    "from pathlib import Path\n",
    "import pickle\n",
    "\n",
    "root_path = Path(\"results/reconstructions/psnr_scores\")\n",
    "model_names = [\"sax\", \"lax\", \"allax\", \"allax_0.5\", \"allax_0.9\", \"allax_no5Dpe\"]\n",
    "\n",
    "for name in model_names:\n",
    "    psnr_path = root_path / f\"mae_{name}_psnr.pkl\"\n",
    "    with open(psnr_path, \"rb\") as f:\n",
    "        psnr_scores = pickle.load(f)\n",
    "    \n",
    "    for k, v in psnr_scores.items():\n",
    "        print(f\"{name} {k} : {v}\")"
   ]
  },
  {
   "cell_type": "code",
   "execution_count": null,
   "metadata": {},
   "outputs": [],
   "source": []
  }
 ],
 "metadata": {
  "kernelspec": {
   "display_name": "kmae_39",
   "language": "python",
   "name": "python3"
  },
  "language_info": {
   "codemirror_mode": {
    "name": "ipython",
    "version": 3
   },
   "file_extension": ".py",
   "mimetype": "text/x-python",
   "name": "python",
   "nbconvert_exporter": "python",
   "pygments_lexer": "ipython3",
   "version": "3.9.16"
  }
 },
 "nbformat": 4,
 "nbformat_minor": 2
}
